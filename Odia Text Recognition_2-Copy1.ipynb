{
 "cells": [
  {
   "cell_type": "code",
   "execution_count": 1,
   "metadata": {},
   "outputs": [
    {
     "name": "stderr",
     "output_type": "stream",
     "text": [
      "Using TensorFlow backend.\n"
     ]
    }
   ],
   "source": [
    "from IPython.core.interactiveshell import InteractiveShell\n",
    "InteractiveShell.ast_node_interactivity = \"all\"\n",
    "%matplotlib inline\n",
    "\n",
    "import keras\n",
    "from keras.datasets import mnist\n",
    "from keras.layers import Dense, Flatten\n",
    "from keras.layers import Conv2D, MaxPooling2D\n",
    "from keras.models import Sequential\n",
    "import matplotlib.pylab as plt"
   ]
  },
  {
   "cell_type": "code",
   "execution_count": 2,
   "metadata": {},
   "outputs": [],
   "source": [
    "from __future__ import print_function\n",
    "from keras.utils.np_utils import to_categorical \n",
    "from keras.layers import Dropout"
   ]
  },
  {
   "cell_type": "code",
   "execution_count": 3,
   "metadata": {},
   "outputs": [],
   "source": [
    "from keras.preprocessing.image import ImageDataGenerator"
   ]
  },
  {
   "cell_type": "code",
   "execution_count": 4,
   "metadata": {},
   "outputs": [],
   "source": [
    "train_datagen = ImageDataGenerator(rescale = 1./255,\n",
    "                                   shear_range = 0.2,\n",
    "                                   zoom_range = 0.2,\n",
    "                                   horizontal_flip = True)"
   ]
  },
  {
   "cell_type": "code",
   "execution_count": 5,
   "metadata": {},
   "outputs": [],
   "source": [
    "test_datagen = ImageDataGenerator(rescale = 1./255)\n"
   ]
  },
  {
   "cell_type": "code",
   "execution_count": 6,
   "metadata": {},
   "outputs": [
    {
     "name": "stdout",
     "output_type": "stream",
     "text": [
      "Found 2456 images belonging to 37 classes.\n"
     ]
    }
   ],
   "source": [
    "training_set = train_datagen.flow_from_directory('C://Users//Ashpo Ghosh//Desktop//Major Project//Dataset//TRAIN',\n",
    "                                                 target_size = (64,64),\n",
    "                                                 batch_size = 16,\n",
    "                                                 class_mode ='categorical',\n",
    "                                                 #color_mode='grayscale',\n",
    "                                                 shuffle=False,\n",
    "                                                 seed=42\n",
    "                                                 )\n",
    "\n"
   ]
  },
  {
   "cell_type": "code",
   "execution_count": 7,
   "metadata": {},
   "outputs": [
    {
     "name": "stdout",
     "output_type": "stream",
     "text": [
      "Found 1002 images belonging to 37 classes.\n"
     ]
    }
   ],
   "source": [
    "\n",
    "test_set = test_datagen.flow_from_directory('C://Users//Ashpo Ghosh//Desktop//Major Project//Dataset//TEST',\n",
    "                                                 target_size = (64,64),\n",
    "                                                 batch_size = 16,\n",
    "                                                 class_mode ='categorical',\n",
    "                                                 #color_mode='grayscale',\n",
    "                                                 shuffle=False,\n",
    "                                                 seed=42\n",
    "                                                 )\n",
    "\n"
   ]
  },
  {
   "cell_type": "code",
   "execution_count": 11,
   "metadata": {},
   "outputs": [],
   "source": [
    "input_shape = (64, 64, 3)\n",
    "model = Sequential()\n",
    "model.add(Conv2D(32, kernel_size=(5, 5), strides=(1, 1),\n",
    "                 activation='relu',\n",
    "                 input_shape=input_shape))\n",
    "model.add(MaxPooling2D(pool_size=(2, 2), strides=(1, 1)))\n",
    "model.add(Conv2D(64, (5, 5), activation='relu'))\n",
    "#model.add(MaxPooling2D(pool_size=(2, 2)))\n",
    "#model.add(Conv2D(64,(5,5),activation='relu'))\n",
    "model.add(MaxPooling2D(pool_size=(2, 2)))\n",
    "model.add(Dropout(0.3))\n",
    "model.add(Flatten())\n",
    "model.add(Dense(500, activation='relu'))\n",
    "model.add(Dense(1000, activation='relu'))\n",
    "model.add(Dropout(0.3))\n",
    "model.add(Dense(37, activation='softmax'))\n",
    "\n"
   ]
  },
  {
   "cell_type": "code",
   "execution_count": 12,
   "metadata": {},
   "outputs": [],
   "source": [
    "\n",
    "model.compile(loss=keras.losses.categorical_crossentropy,\n",
    "              optimizer=keras.optimizers.Adam(),\n",
    "              metrics=['accuracy'])"
   ]
  },
  {
   "cell_type": "code",
   "execution_count": 13,
   "metadata": {},
   "outputs": [
    {
     "data": {
      "text/plain": [
       "'history = model.fit((item for item in training_set), train_labels, \\n                    epochs=20, \\n                    validation_data=((item for item in test_set), test_labels))\\n\\n(eval_loss, eval_accuracy) = model.evaluate( \\n    validation_data, test_labels, batch_size=16,verbose=1)\\n\\nprint(\"[INFO] accuracy: {:.2f}%\".format(eval_accuracy * 100)) \\nprint(\"[INFO] Loss: {}\".format(eval_loss)) \\nend= datetime.datetime.now()\\nelapsed= end-start\\nprint (\\'Time: \\', elapsed)'"
      ]
     },
     "execution_count": 13,
     "metadata": {},
     "output_type": "execute_result"
    },
    {
     "name": "stdout",
     "output_type": "stream",
     "text": [
      "Epoch 1/40\n",
      "200/200 [==============================] - 486s 2s/step - loss: 3.5806 - accuracy: 0.1071 - val_loss: 2.1658 - val_accuracy: 0.1488\n",
      "Epoch 2/40\n",
      "200/200 [==============================] - 491s 2s/step - loss: 3.2939 - accuracy: 0.1253 - val_loss: 3.7431 - val_accuracy: 0.1083\n",
      "Epoch 3/40\n",
      "200/200 [==============================] - 512s 3s/step - loss: 3.2227 - accuracy: 0.1592 - val_loss: 3.5298 - val_accuracy: 0.1176\n",
      "Epoch 4/40\n",
      "200/200 [==============================] - 499s 2s/step - loss: 2.9656 - accuracy: 0.1526 - val_loss: 3.1966 - val_accuracy: 0.1346\n",
      "Epoch 5/40\n",
      "200/200 [==============================] - 481s 2s/step - loss: 2.8261 - accuracy: 0.2041 - val_loss: 0.3513 - val_accuracy: 0.2230\n",
      "Epoch 6/40\n",
      "200/200 [==============================] - 486s 2s/step - loss: 2.6796 - accuracy: 0.2231 - val_loss: 3.0109 - val_accuracy: 0.3249\n",
      "Epoch 7/40\n",
      "200/200 [==============================] - 480s 2s/step - loss: 2.2842 - accuracy: 0.3214 - val_loss: 3.0133 - val_accuracy: 0.2825\n",
      "Epoch 8/40\n",
      "200/200 [==============================] - 473s 2s/step - loss: 2.1209 - accuracy: 0.3486 - val_loss: 2.2127 - val_accuracy: 0.3592\n",
      "Epoch 9/40\n",
      "200/200 [==============================] - 27442s 137s/step - loss: 1.9000 - accuracy: 0.4166 - val_loss: 1.2239 - val_accuracy: 0.4714\n",
      "Epoch 10/40\n",
      "200/200 [==============================] - 459s 2s/step - loss: 1.7782 - accuracy: 0.4582 - val_loss: 2.5330 - val_accuracy: 0.4786\n",
      "Epoch 11/40\n",
      "200/200 [==============================] - 473s 2s/step - loss: 1.5736 - accuracy: 0.5041 - val_loss: 1.8137 - val_accuracy: 0.4541\n",
      "Epoch 12/40\n",
      "200/200 [==============================] - 471s 2s/step - loss: 1.4041 - accuracy: 0.5534 - val_loss: 0.7705 - val_accuracy: 0.5668\n",
      "Epoch 13/40\n",
      "200/200 [==============================] - 471s 2s/step - loss: 1.3589 - accuracy: 0.5717 - val_loss: 0.1391 - val_accuracy: 0.5657\n",
      "Epoch 14/40\n",
      "200/200 [==============================] - 470s 2s/step - loss: 1.2353 - accuracy: 0.6043 - val_loss: 0.9160 - val_accuracy: 0.6332\n",
      "Epoch 15/40\n",
      "200/200 [==============================] - 466s 2s/step - loss: 1.0841 - accuracy: 0.6401 - val_loss: 1.5517 - val_accuracy: 0.5860\n",
      "Epoch 16/40\n",
      "200/200 [==============================] - 507s 3s/step - loss: 1.0273 - accuracy: 0.6795 - val_loss: 1.5358 - val_accuracy: 0.5971\n",
      "Epoch 17/40\n",
      "200/200 [==============================] - 537s 3s/step - loss: 0.9897 - accuracy: 0.6795 - val_loss: 1.7197 - val_accuracy: 0.6072\n",
      "Epoch 18/40\n",
      "200/200 [==============================] - 510s 3s/step - loss: 0.8834 - accuracy: 0.7183 - val_loss: 0.3435 - val_accuracy: 0.6569\n",
      "Epoch 19/40\n",
      "200/200 [==============================] - 502s 3s/step - loss: 0.8042 - accuracy: 0.7362 - val_loss: 1.5523 - val_accuracy: 0.6662\n",
      "Epoch 20/40\n",
      "200/200 [==============================] - 492s 2s/step - loss: 0.7965 - accuracy: 0.7450 - val_loss: 0.8296 - val_accuracy: 0.6488\n",
      "Epoch 21/40\n",
      "200/200 [==============================] - 443s 2s/step - loss: 0.7491 - accuracy: 0.7635 - val_loss: 0.0662 - val_accuracy: 0.6600\n",
      "Epoch 22/40\n",
      "200/200 [==============================] - 266s 1s/step - loss: 0.7456 - accuracy: 0.7578 - val_loss: 1.7103 - val_accuracy: 0.6698\n",
      "Epoch 23/40\n",
      "200/200 [==============================] - 277s 1s/step - loss: 0.6607 - accuracy: 0.7917 - val_loss: 1.4332 - val_accuracy: 0.7179\n",
      "Epoch 24/40\n",
      "200/200 [==============================] - 293s 1s/step - loss: 0.5880 - accuracy: 0.8039 - val_loss: 1.0478 - val_accuracy: 0.7010\n",
      "Epoch 25/40\n",
      "200/200 [==============================] - 267s 1s/step - loss: 0.5860 - accuracy: 0.8098 - val_loss: 3.0325 - val_accuracy: 0.7175\n",
      "Epoch 26/40\n",
      "200/200 [==============================] - 266s 1s/step - loss: 0.5026 - accuracy: 0.8342 - val_loss: 0.1323 - val_accuracy: 0.7203\n",
      "Epoch 27/40\n",
      "200/200 [==============================] - 282s 1s/step - loss: 0.5047 - accuracy: 0.8336 - val_loss: 0.7047 - val_accuracy: 0.7291\n",
      "Epoch 28/40\n",
      "200/200 [==============================] - 475s 2s/step - loss: 0.4962 - accuracy: 0.8357 - val_loss: 1.4560 - val_accuracy: 0.7032\n",
      "Epoch 29/40\n",
      "200/200 [==============================] - 511s 3s/step - loss: 0.4630 - accuracy: 0.8412 - val_loss: 1.0009 - val_accuracy: 0.7126\n",
      "Epoch 30/40\n",
      "200/200 [==============================] - 493s 2s/step - loss: 0.4158 - accuracy: 0.8637 - val_loss: 2.4977 - val_accuracy: 0.7078\n",
      "Epoch 31/40\n",
      "200/200 [==============================] - 492s 2s/step - loss: 0.3907 - accuracy: 0.8722 - val_loss: 0.7164 - val_accuracy: 0.7032\n",
      "Epoch 32/40\n",
      "200/200 [==============================] - 493s 2s/step - loss: 0.3861 - accuracy: 0.8816 - val_loss: 0.9206 - val_accuracy: 0.7478\n",
      "Epoch 33/40\n",
      "200/200 [==============================] - 535s 3s/step - loss: 0.3773 - accuracy: 0.8791 - val_loss: 0.8952 - val_accuracy: 0.7086\n",
      "Epoch 34/40\n",
      "200/200 [==============================] - 573s 3s/step - loss: 0.3374 - accuracy: 0.8900 - val_loss: 0.1873 - val_accuracy: 0.7225\n",
      "Epoch 35/40\n",
      "200/200 [==============================] - 468s 2s/step - loss: 0.3392 - accuracy: 0.8954 - val_loss: 0.0256 - val_accuracy: 0.7326\n",
      "Epoch 36/40\n",
      "200/200 [==============================] - 715s 4s/step - loss: 0.3060 - accuracy: 0.9044 - val_loss: 1.5910 - val_accuracy: 0.7389\n",
      "Epoch 37/40\n",
      "200/200 [==============================] - 489s 2s/step - loss: 0.2745 - accuracy: 0.9198 - val_loss: 0.7508 - val_accuracy: 0.7032\n",
      "Epoch 38/40\n",
      "200/200 [==============================] - 488s 2s/step - loss: 0.3274 - accuracy: 0.9026 - val_loss: 2.7293 - val_accuracy: 0.7507\n",
      "Epoch 39/40\n",
      "200/200 [==============================] - 495s 2s/step - loss: 0.3063 - accuracy: 0.9032 - val_loss: 0.7587 - val_accuracy: 0.7317\n",
      "Epoch 40/40\n",
      "200/200 [==============================] - 495s 2s/step - loss: 0.2406 - accuracy: 0.9253 - val_loss: 1.5926 - val_accuracy: 0.7531\n"
     ]
    }
   ],
   "source": [
    "\"\"\"history = model.fit((item for item in training_set), train_labels, \n",
    "                    epochs=20, \n",
    "                    validation_data=((item for item in test_set), test_labels))\n",
    "\n",
    "(eval_loss, eval_accuracy) = model.evaluate( \n",
    "    validation_data, test_labels, batch_size=16,verbose=1)\n",
    "\n",
    "print(\"[INFO] accuracy: {:.2f}%\".format(eval_accuracy * 100)) \n",
    "print(\"[INFO] Loss: {}\".format(eval_loss)) \n",
    "end= datetime.datetime.now()\n",
    "elapsed= end-start\n",
    "print ('Time: ', elapsed)\"\"\"\n",
    "hist=model.fit_generator(training_set,\n",
    "                    steps_per_epoch = 200,\n",
    "                    epochs = 40,\n",
    "                    validation_data = test_set,\n",
    "                    validation_steps = 141,\n",
    "                    verbose=1)\n",
    "                  "
   ]
  },
  {
   "cell_type": "code",
   "execution_count": 14,
   "metadata": {},
   "outputs": [],
   "source": [
    "model.save('my_Odia40_model.h5')"
   ]
  },
  {
   "cell_type": "code",
   "execution_count": 15,
   "metadata": {},
   "outputs": [
    {
     "name": "stdout",
     "output_type": "stream",
     "text": [
      "63/63 [==============================] - 29s 467ms/step\n"
     ]
    }
   ],
   "source": [
    "test_set.reset()\n",
    "pred=model.predict_generator(test_set,verbose=1)"
   ]
  },
  {
   "cell_type": "code",
   "execution_count": 16,
   "metadata": {},
   "outputs": [
    {
     "name": "stdout",
     "output_type": "stream",
     "text": [
      "dict_keys(['val_loss', 'val_accuracy', 'loss', 'accuracy'])\n"
     ]
    }
   ],
   "source": [
    "print(hist.history.keys())"
   ]
  },
  {
   "cell_type": "code",
   "execution_count": 18,
   "metadata": {},
   "outputs": [
    {
     "name": "stdout",
     "output_type": "stream",
     "text": [
      "dict_values([[2.165771484375, 3.74310302734375, 3.5298357009887695, 3.1965935230255127, 0.35132279992103577, 3.0109200477600098, 3.013291120529175, 2.212740182876587, 1.2239270210266113, 2.532954692840576, 1.8137130737304688, 0.7704827785491943, 0.1390763819217682, 0.9159858226776123, 1.5517241954803467, 1.535792589187622, 1.719731092453003, 0.3435472846031189, 1.5522634983062744, 0.8296408653259277, 0.06621278822422028, 1.7103351354599, 1.4331879615783691, 1.0478171110153198, 3.032525062561035, 0.13233762979507446, 0.7046977877616882, 1.4560253620147705, 1.0008749961853027, 2.4977192878723145, 0.7163585424423218, 0.9205883741378784, 0.8952301144599915, 0.18734361231327057, 0.02561253495514393, 1.5910499095916748, 0.750839114189148, 2.7293269634246826, 0.7586501240730286, 1.5926170349121094], [0.14884135127067566, 0.10828877240419388, 0.11764705926179886, 0.13458110392093658, 0.22296693921089172, 0.32486632466316223, 0.282531201839447, 0.3591800332069397, 0.471403032541275, 0.4786096215248108, 0.4540998339653015, 0.5668449401855469, 0.5656836628913879, 0.6332442164421082, 0.5860071182250977, 0.5971479415893555, 0.6072385907173157, 0.656862735748291, 0.666221022605896, 0.648841381072998, 0.6599642634391785, 0.6697860956192017, 0.7179144620895386, 0.7009803652763367, 0.717468798160553, 0.720285952091217, 0.7290552854537964, 0.7032085657119751, 0.7125668525695801, 0.707774817943573, 0.7032085657119751, 0.7477718591690063, 0.7085561752319336, 0.722520112991333, 0.7326202988624573, 0.7388591766357422, 0.7032085657119751, 0.7506702542304993, 0.7317290306091309, 0.7531194090843201], [3.579332121577694, 3.2939302213070913, 3.220363207318207, 2.9643223362620033, 2.822319924717907, 2.676739020100363, 2.2806590228449983, 2.1171175888460554, 1.899972125738823, 1.7741898907835234, 1.570957421236965, 1.4012288275571447, 1.357933412812066, 1.2365945042329805, 1.0860662183606393, 1.027300575769335, 0.9906273877640278, 0.885708551465861, 0.8056130741486659, 0.7977218653855223, 0.749998231322386, 0.7469494769709394, 0.6623152130990911, 0.5893945603779946, 0.5873341887067481, 0.5041993889646171, 0.5057323205261751, 0.4984062191714168, 0.4632198490616427, 0.41668870888219334, 0.3915282064530189, 0.3849375914964251, 0.3788328844744253, 0.338237647687436, 0.3408492783256571, 0.30680492489963485, 0.2743013938386892, 0.328174352937015, 0.3069611452998307, 0.24159310889060204], [0.10709799, 0.1253125, 0.15923367, 0.15256892, 0.20414573, 0.22305764, 0.32142857, 0.3486181, 0.4165625, 0.45822865, 0.50407267, 0.55339193, 0.5717419, 0.6043233, 0.6400754, 0.67951125, 0.67951125, 0.7182789, 0.73621553, 0.7449875, 0.76350504, 0.7578321, 0.7916667, 0.8038847, 0.8098371, 0.8341709, 0.8336466, 0.8357412, 0.8411654, 0.8637218, 0.87218046, 0.8815789, 0.8790829, 0.8900376, 0.8954146, 0.9044486, 0.9197995, 0.90256894, 0.9031955, 0.92525125]])\n"
     ]
    }
   ],
   "source": [
    "print(hist.history.values())"
   ]
  },
  {
   "cell_type": "code",
   "execution_count": 19,
   "metadata": {},
   "outputs": [
    {
     "name": "stdout",
     "output_type": "stream",
     "text": [
      "76.54125263293584\n"
     ]
    }
   ],
   "source": [
    "x=hist.history.get('val_accuracy')\n",
    "s=0\n",
    "for t in x:\n",
    "    s = s + t\n",
    "av=s/30\n",
    "print(av*100)"
   ]
  },
  {
   "cell_type": "code",
   "execution_count": 29,
   "metadata": {},
   "outputs": [
    {
     "data": {
      "text/plain": [
       "[<matplotlib.lines.Line2D at 0x1b343ac1908>]"
      ]
     },
     "execution_count": 29,
     "metadata": {},
     "output_type": "execute_result"
    },
    {
     "data": {
      "text/plain": [
       "[<matplotlib.lines.Line2D at 0x1b343a6f688>]"
      ]
     },
     "execution_count": 29,
     "metadata": {},
     "output_type": "execute_result"
    },
    {
     "data": {
      "text/plain": [
       "Text(0.5, 1.0, 'model accuracy')"
      ]
     },
     "execution_count": 29,
     "metadata": {},
     "output_type": "execute_result"
    },
    {
     "data": {
      "text/plain": [
       "Text(0, 0.5, 'accuracy')"
      ]
     },
     "execution_count": 29,
     "metadata": {},
     "output_type": "execute_result"
    },
    {
     "data": {
      "text/plain": [
       "Text(0.5, 0, 'epoch')"
      ]
     },
     "execution_count": 29,
     "metadata": {},
     "output_type": "execute_result"
    },
    {
     "data": {
      "text/plain": [
       "<matplotlib.legend.Legend at 0x1b343a73888>"
      ]
     },
     "execution_count": 29,
     "metadata": {},
     "output_type": "execute_result"
    },
    {
     "data": {
      "image/png": "[encoded data removed]",
      "text/plain": [
       "<Figure size 432x288 with 1 Axes>"
      ]
     },
     "metadata": {
      "needs_background": "light"
     },
     "output_type": "display_data"
    }
   ],
   "source": [
    "plt.plot(hist.history['accuracy'])\n",
    "plt.plot(hist.history['val_accuracy'])\n",
    "plt.title('model accuracy')\n",
    "plt.ylabel('accuracy')\n",
    "plt.xlabel('epoch')\n",
    "plt.legend(['train', 'test'], loc='upper left')\n",
    "plt.show()"
   ]
  },
  {
   "cell_type": "code",
   "execution_count": 31,
   "metadata": {},
   "outputs": [
    {
     "data": {
      "text/plain": [
       "[<matplotlib.lines.Line2D at 0x1b343b80dc8>]"
      ]
     },
     "execution_count": 31,
     "metadata": {},
     "output_type": "execute_result"
    },
    {
     "data": {
      "text/plain": [
       "[<matplotlib.lines.Line2D at 0x1b343b52c88>]"
      ]
     },
     "execution_count": 31,
     "metadata": {},
     "output_type": "execute_result"
    },
    {
     "data": {
      "text/plain": [
       "Text(0.5, 1.0, 'model loss')"
      ]
     },
     "execution_count": 31,
     "metadata": {},
     "output_type": "execute_result"
    },
    {
     "data": {
      "text/plain": [
       "Text(0, 0.5, 'loss')"
      ]
     },
     "execution_count": 31,
     "metadata": {},
     "output_type": "execute_result"
    },
    {
     "data": {
      "text/plain": [
       "Text(0.5, 0, 'epoch')"
      ]
     },
     "execution_count": 31,
     "metadata": {},
     "output_type": "execute_result"
    },
    {
     "data": {
      "text/plain": [
       "<matplotlib.legend.Legend at 0x1b343b80c48>"
      ]
     },
     "execution_count": 31,
     "metadata": {},
     "output_type": "execute_result"
    },
    {
     "data": {
      "image/png": "[encoded data removed]",
      "text/plain": [
       "<Figure size 432x288 with 1 Axes>"
      ]
     },
     "metadata": {
      "needs_background": "light"
     },
     "output_type": "display_data"
    }
   ],
   "source": [
    "plt.plot(hist.history['loss'])\n",
    "plt.plot(hist.history['val_loss'])\n",
    "plt.title('model loss')\n",
    "plt.ylabel('loss')\n",
    "plt.xlabel('epoch')\n",
    "plt.legend(['train', 'test'], loc='upper left')\n",
    "plt.show()"
   ]
  },
  {
   "cell_type": "code",
   "execution_count": 17,
   "metadata": {},
   "outputs": [],
   "source": [
    "import numpy as np\n",
    "predicted_class_indices=np.argmax(pred,axis=1)"
   ]
  },
  {
   "cell_type": "code",
   "execution_count": 31,
   "metadata": {},
   "outputs": [
    {
     "data": {
      "text/plain": [
       "dict_items([(0, 'କ୍ଷ'), (1, 'ଚ'), (2, 'ଛ'), (3, 'ଜ'), (4, 'ଝ'), (5, 'ଞ'), (6, 'ଟ'), (7, 'ଠ'), (8, 'ଡ'), (9, 'ଢ'), (10, 'ଣ'), (11, 'ତ'), (12, 'ଥ'), (13, 'ଦ'), (14, 'ଧ'), (15, 'ନ'), (16, 'ପ'), (17, 'ଫ'), (18, 'ବ'), (19, 'ଭ'), (20, 'ମ'), (21, 'ଯ'), (22, 'ର'), (23, 'ଲ'), (24, 'ଳ'), (25, 'ଶ'), (26, 'ଷ'), (27, 'ସ'), (28, 'ହ'), (29, 'ୟ'), (30, 'ୱ')])"
      ]
     },
     "execution_count": 31,
     "metadata": {},
     "output_type": "execute_result"
    }
   ],
   "source": [
    "labels = (training_set.class_indices)\n",
    "labels = dict((v,k) for k,v in labels.items())\n",
    "predictions = [labels[k] for k in predicted_class_indices]\n",
    "labels.items()"
   ]
  },
  {
   "cell_type": "code",
   "execution_count": 21,
   "metadata": {},
   "outputs": [
    {
     "ename": "NameError",
     "evalue": "name 'history' is not defined",
     "output_type": "error",
     "traceback": [
      "\u001b[1;31m---------------------------------------------------------------------------\u001b[0m",
      "\u001b[1;31mNameError\u001b[0m                                 Traceback (most recent call last)",
      "\u001b[1;32m<ipython-input-21-3ffcdd3c6f9a>\u001b[0m in \u001b[0;36m<module>\u001b[1;34m\u001b[0m\n\u001b[1;32m----> 1\u001b[1;33m \u001b[0mplt\u001b[0m\u001b[1;33m.\u001b[0m\u001b[0mplot\u001b[0m\u001b[1;33m(\u001b[0m\u001b[0mrange\u001b[0m\u001b[1;33m(\u001b[0m\u001b[1;36m1\u001b[0m\u001b[1;33m,\u001b[0m \u001b[1;36m11\u001b[0m\u001b[1;33m)\u001b[0m\u001b[1;33m,\u001b[0m \u001b[0mhistory\u001b[0m\u001b[1;33m.\u001b[0m\u001b[0macc\u001b[0m\u001b[1;33m)\u001b[0m\u001b[1;33m\u001b[0m\u001b[1;33m\u001b[0m\u001b[0m\n\u001b[0m\u001b[0;32m      2\u001b[0m \u001b[0mplt\u001b[0m\u001b[1;33m.\u001b[0m\u001b[0mxlabel\u001b[0m\u001b[1;33m(\u001b[0m\u001b[1;34m'Epochs'\u001b[0m\u001b[1;33m)\u001b[0m\u001b[1;33m\u001b[0m\u001b[1;33m\u001b[0m\u001b[0m\n\u001b[0;32m      3\u001b[0m \u001b[0mplt\u001b[0m\u001b[1;33m.\u001b[0m\u001b[0mylabel\u001b[0m\u001b[1;33m(\u001b[0m\u001b[1;34m'Accuracy'\u001b[0m\u001b[1;33m)\u001b[0m\u001b[1;33m\u001b[0m\u001b[1;33m\u001b[0m\u001b[0m\n\u001b[0;32m      4\u001b[0m \u001b[0mplt\u001b[0m\u001b[1;33m.\u001b[0m\u001b[0mshow\u001b[0m\u001b[1;33m(\u001b[0m\u001b[1;33m)\u001b[0m\u001b[1;33m\u001b[0m\u001b[1;33m\u001b[0m\u001b[0m\n",
      "\u001b[1;31mNameError\u001b[0m: name 'history' is not defined"
     ]
    }
   ],
   "source": [
    "plt.plot(range(1, 11), history.acc)\n",
    "plt.xlabel('Epochs')\n",
    "plt.ylabel('Accuracy')\n",
    "plt.show()"
   ]
  },
  {
   "cell_type": "code",
   "execution_count": 24,
   "metadata": {},
   "outputs": [
    {
     "data": {
      "text/plain": [
       "array([18, 24, 29, 20, 24, 16, 27, 19, 11, 19, 25, 30, 24,  2, 14, 27,  0,\n",
       "       28, 20, 10, 29, 24, 20, 30,  2, 10, 19,  4, 23, 18, 18,  7,  9,  8,\n",
       "       14,  4,  4, 13, 17, 10,  0,  5, 28, 27, 19,  3, 19, 17,  0,  7, 10,\n",
       "       29,  1,  1, 29, 14, 21,  2, 18, 22,  5,  2, 26,  8, 16, 13, 11, 13,\n",
       "       26,  9,  1, 23, 20,  6, 12,  2, 14, 22, 14, 25, 17, 30, 12, 13, 24,\n",
       "       23,  3, 17,  7, 15,  6, 26,  0,  8, 15, 24, 12, 23, 22, 19,  6,  6,\n",
       "        1,  5, 29,  0, 24,  5, 23, 28, 15, 28, 18, 13, 22, 23, 18, 24, 30,\n",
       "       10, 12, 21, 27,  1, 20, 24,  4, 17, 26, 23,  8, 30, 11,  1,  5, 12,\n",
       "        2, 21, 15, 27,  3, 26, 15, 30, 14, 29,  4,  5, 13, 12, 12,  8, 14,\n",
       "        4, 11, 20, 17,  5, 23,  8, 27, 15, 15, 19, 23, 11,  4,  0, 15, 24,\n",
       "       19, 17, 21, 29, 16, 27, 18, 24, 25,  1,  8, 20,  0, 10, 29, 29, 29,\n",
       "       20, 30,  2, 21,  3, 10, 15, 25,  4, 28, 10,  2, 22, 22,  3, 11, 22,\n",
       "       11,  7, 15, 16, 14,  2,  9, 19,  0,  1, 22,  3, 13, 17,  8, 12, 23,\n",
       "       24,  3, 26,  4, 20, 17,  4, 13, 29, 21, 13, 27, 10,  2, 15, 11, 26,\n",
       "        0,  0,  8, 18, 22,  3, 23,  5, 15,  8, 11, 12, 18,  4, 15,  2,  0,\n",
       "        4, 20, 22, 28, 23,  6, 25,  5, 11,  2, 20, 22,  2,  4, 30, 16,  3,\n",
       "       11,  5, 19, 23, 23,  8,  0,  9, 25, 14,  2, 21,  2,  4, 26,  8, 14,\n",
       "       26,  5,  2, 26, 24, 25, 27, 17, 25, 23, 13,  0, 13, 23, 15, 18, 11,\n",
       "       25, 12, 10, 12,  2,  3, 19,  0, 25,  4, 27,  7, 17,  5, 22, 19, 13,\n",
       "       22,  5, 21, 29, 11,  9, 30, 29, 12,  5,  7, 10,  7, 11,  9, 20, 16,\n",
       "       21, 27,  4, 17, 23,  2,  2, 21, 20, 27, 17, 22,  1,  8, 30, 11, 12,\n",
       "       28, 20, 11, 11, 24, 20, 15, 30, 23, 13,  5, 14, 20,  8, 16, 30,  4,\n",
       "       11, 19,  2,  6,  6,  2, 12, 24, 24,  8, 11, 10, 13,  3,  2, 19, 25,\n",
       "       19,  7, 26,  2,  2, 14,  5, 28,  6,  2, 24, 30,  2,  2, 30,  1, 17,\n",
       "       18, 14, 26, 20, 27, 28, 12, 30, 27,  6, 14,  8,  8,  6,  8, 27, 15,\n",
       "       17, 17, 18, 22, 22, 18, 13, 17, 28,  7, 24, 27, 13, 17, 15, 19, 27,\n",
       "       17,  8, 17, 10, 15, 14, 13,  3,  6, 29,  9, 24,  0, 29,  1, 14,  7,\n",
       "       22, 25, 14,  0, 18, 27, 28,  0, 19,  8,  2,  1, 16, 27, 27, 14, 19,\n",
       "       12,  6, 17,  3, 11, 12, 27, 25, 29,  6, 10, 21, 24, 18, 27, 28, 26,\n",
       "        5,  9,  9,  9, 28,  8,  7,  7,  4,  0,  6, 17,  4, 27,  4,  0, 30,\n",
       "       21, 28, 19,  9, 15,  0, 25,  8, 27, 25, 14,  8, 26, 25, 16, 21,  7,\n",
       "       23, 13,  1, 20,  1,  7, 14,  3, 14, 11,  7, 22, 23, 12,  2, 13,  5,\n",
       "        6, 30, 25,  0,  1, 23, 24, 25, 21, 12, 16, 22, 24, 23,  0, 27, 20,\n",
       "        7, 11, 13, 24, 15,  0, 11, 13, 30, 19,  8, 27, 27, 25, 30, 26, 30,\n",
       "       13, 23, 21, 23,  1,  0, 13,  4, 22, 24, 18, 20, 12, 27, 28, 26, 24,\n",
       "       14,  4,  7,  5, 17,  7, 21,  8, 13, 30, 25,  8, 14, 20,  1, 27, 12,\n",
       "       24, 18,  7, 16,  4, 28, 14,  2, 15, 10,  8,  0, 29, 10, 20, 20, 16,\n",
       "       29,  8, 15, 23, 28, 21,  5, 18, 26,  5, 27, 27, 19, 10, 14, 13, 11,\n",
       "       10, 26, 17,  1, 18, 21, 19, 15, 26, 30,  7, 18,  5, 19,  3, 20, 23,\n",
       "        2, 18,  5,  2, 14, 20,  1, 25, 27,  9,  6, 11, 23, 17,  8,  5, 19,\n",
       "        2], dtype=int64)"
      ]
     },
     "execution_count": 24,
     "metadata": {},
     "output_type": "execute_result"
    }
   ],
   "source": [
    "predicted_class_indices"
   ]
  },
  {
   "cell_type": "code",
   "execution_count": 25,
   "metadata": {},
   "outputs": [
    {
     "data": {
      "text/plain": [
       "['ବ',\n",
       " 'ଳ',\n",
       " 'ୟ',\n",
       " 'ମ',\n",
       " 'ଳ',\n",
       " 'ପ',\n",
       " 'ସ',\n",
       " 'ଭ',\n",
       " 'ତ',\n",
       " 'ଭ',\n",
       " 'ଶ',\n",
       " 'ୱ',\n",
       " 'ଳ',\n",
       " 'ଛ',\n",
       " 'ଧ',\n",
       " 'ସ',\n",
       " 'କ୍ଷ',\n",
       " 'ହ',\n",
       " 'ମ',\n",
       " 'ଣ',\n",
       " 'ୟ',\n",
       " 'ଳ',\n",
       " 'ମ',\n",
       " 'ୱ',\n",
       " 'ଛ',\n",
       " 'ଣ',\n",
       " 'ଭ',\n",
       " 'ଝ',\n",
       " 'ଲ',\n",
       " 'ବ',\n",
       " 'ବ',\n",
       " 'ଠ',\n",
       " 'ଢ',\n",
       " 'ଡ',\n",
       " 'ଧ',\n",
       " 'ଝ',\n",
       " 'ଝ',\n",
       " 'ଦ',\n",
       " 'ଫ',\n",
       " 'ଣ',\n",
       " 'କ୍ଷ',\n",
       " 'ଞ',\n",
       " 'ହ',\n",
       " 'ସ',\n",
       " 'ଭ',\n",
       " 'ଜ',\n",
       " 'ଭ',\n",
       " 'ଫ',\n",
       " 'କ୍ଷ',\n",
       " 'ଠ',\n",
       " 'ଣ',\n",
       " 'ୟ',\n",
       " 'ଚ',\n",
       " 'ଚ',\n",
       " 'ୟ',\n",
       " 'ଧ',\n",
       " 'ଯ',\n",
       " 'ଛ',\n",
       " 'ବ',\n",
       " 'ର',\n",
       " 'ଞ',\n",
       " 'ଛ',\n",
       " 'ଷ',\n",
       " 'ଡ',\n",
       " 'ପ',\n",
       " 'ଦ',\n",
       " 'ତ',\n",
       " 'ଦ',\n",
       " 'ଷ',\n",
       " 'ଢ',\n",
       " 'ଚ',\n",
       " 'ଲ',\n",
       " 'ମ',\n",
       " 'ଟ',\n",
       " 'ଥ',\n",
       " 'ଛ',\n",
       " 'ଧ',\n",
       " 'ର',\n",
       " 'ଧ',\n",
       " 'ଶ',\n",
       " 'ଫ',\n",
       " 'ୱ',\n",
       " 'ଥ',\n",
       " 'ଦ',\n",
       " 'ଳ',\n",
       " 'ଲ',\n",
       " 'ଜ',\n",
       " 'ଫ',\n",
       " 'ଠ',\n",
       " 'ନ',\n",
       " 'ଟ',\n",
       " 'ଷ',\n",
       " 'କ୍ଷ',\n",
       " 'ଡ',\n",
       " 'ନ',\n",
       " 'ଳ',\n",
       " 'ଥ',\n",
       " 'ଲ',\n",
       " 'ର',\n",
       " 'ଭ',\n",
       " 'ଟ',\n",
       " 'ଟ',\n",
       " 'ଚ',\n",
       " 'ଞ',\n",
       " 'ୟ',\n",
       " 'କ୍ଷ',\n",
       " 'ଳ',\n",
       " 'ଞ',\n",
       " 'ଲ',\n",
       " 'ହ',\n",
       " 'ନ',\n",
       " 'ହ',\n",
       " 'ବ',\n",
       " 'ଦ',\n",
       " 'ର',\n",
       " 'ଲ',\n",
       " 'ବ',\n",
       " 'ଳ',\n",
       " 'ୱ',\n",
       " 'ଣ',\n",
       " 'ଥ',\n",
       " 'ଯ',\n",
       " 'ସ',\n",
       " 'ଚ',\n",
       " 'ମ',\n",
       " 'ଳ',\n",
       " 'ଝ',\n",
       " 'ଫ',\n",
       " 'ଷ',\n",
       " 'ଲ',\n",
       " 'ଡ',\n",
       " 'ୱ',\n",
       " 'ତ',\n",
       " 'ଚ',\n",
       " 'ଞ',\n",
       " 'ଥ',\n",
       " 'ଛ',\n",
       " 'ଯ',\n",
       " 'ନ',\n",
       " 'ସ',\n",
       " 'ଜ',\n",
       " 'ଷ',\n",
       " 'ନ',\n",
       " 'ୱ',\n",
       " 'ଧ',\n",
       " 'ୟ',\n",
       " 'ଝ',\n",
       " 'ଞ',\n",
       " 'ଦ',\n",
       " 'ଥ',\n",
       " 'ଥ',\n",
       " 'ଡ',\n",
       " 'ଧ',\n",
       " 'ଝ',\n",
       " 'ତ',\n",
       " 'ମ',\n",
       " 'ଫ',\n",
       " 'ଞ',\n",
       " 'ଲ',\n",
       " 'ଡ',\n",
       " 'ସ',\n",
       " 'ନ',\n",
       " 'ନ',\n",
       " 'ଭ',\n",
       " 'ଲ',\n",
       " 'ତ',\n",
       " 'ଝ',\n",
       " 'କ୍ଷ',\n",
       " 'ନ',\n",
       " 'ଳ',\n",
       " 'ଭ',\n",
       " 'ଫ',\n",
       " 'ଯ',\n",
       " 'ୟ',\n",
       " 'ପ',\n",
       " 'ସ',\n",
       " 'ବ',\n",
       " 'ଳ',\n",
       " 'ଶ',\n",
       " 'ଚ',\n",
       " 'ଡ',\n",
       " 'ମ',\n",
       " 'କ୍ଷ',\n",
       " 'ଣ',\n",
       " 'ୟ',\n",
       " 'ୟ',\n",
       " 'ୟ',\n",
       " 'ମ',\n",
       " 'ୱ',\n",
       " 'ଛ',\n",
       " 'ଯ',\n",
       " 'ଜ',\n",
       " 'ଣ',\n",
       " 'ନ',\n",
       " 'ଶ',\n",
       " 'ଝ',\n",
       " 'ହ',\n",
       " 'ଣ',\n",
       " 'ଛ',\n",
       " 'ର',\n",
       " 'ର',\n",
       " 'ଜ',\n",
       " 'ତ',\n",
       " 'ର',\n",
       " 'ତ',\n",
       " 'ଠ',\n",
       " 'ନ',\n",
       " 'ପ',\n",
       " 'ଧ',\n",
       " 'ଛ',\n",
       " 'ଢ',\n",
       " 'ଭ',\n",
       " 'କ୍ଷ',\n",
       " 'ଚ',\n",
       " 'ର',\n",
       " 'ଜ',\n",
       " 'ଦ',\n",
       " 'ଫ',\n",
       " 'ଡ',\n",
       " 'ଥ',\n",
       " 'ଲ',\n",
       " 'ଳ',\n",
       " 'ଜ',\n",
       " 'ଷ',\n",
       " 'ଝ',\n",
       " 'ମ',\n",
       " 'ଫ',\n",
       " 'ଝ',\n",
       " 'ଦ',\n",
       " 'ୟ',\n",
       " 'ଯ',\n",
       " 'ଦ',\n",
       " 'ସ',\n",
       " 'ଣ',\n",
       " 'ଛ',\n",
       " 'ନ',\n",
       " 'ତ',\n",
       " 'ଷ',\n",
       " 'କ୍ଷ',\n",
       " 'କ୍ଷ',\n",
       " 'ଡ',\n",
       " 'ବ',\n",
       " 'ର',\n",
       " 'ଜ',\n",
       " 'ଲ',\n",
       " 'ଞ',\n",
       " 'ନ',\n",
       " 'ଡ',\n",
       " 'ତ',\n",
       " 'ଥ',\n",
       " 'ବ',\n",
       " 'ଝ',\n",
       " 'ନ',\n",
       " 'ଛ',\n",
       " 'କ୍ଷ',\n",
       " 'ଝ',\n",
       " 'ମ',\n",
       " 'ର',\n",
       " 'ହ',\n",
       " 'ଲ',\n",
       " 'ଟ',\n",
       " 'ଶ',\n",
       " 'ଞ',\n",
       " 'ତ',\n",
       " 'ଛ',\n",
       " 'ମ',\n",
       " 'ର',\n",
       " 'ଛ',\n",
       " 'ଝ',\n",
       " 'ୱ',\n",
       " 'ପ',\n",
       " 'ଜ',\n",
       " 'ତ',\n",
       " 'ଞ',\n",
       " 'ଭ',\n",
       " 'ଲ',\n",
       " 'ଲ',\n",
       " 'ଡ',\n",
       " 'କ୍ଷ',\n",
       " 'ଢ',\n",
       " 'ଶ',\n",
       " 'ଧ',\n",
       " 'ଛ',\n",
       " 'ଯ',\n",
       " 'ଛ',\n",
       " 'ଝ',\n",
       " 'ଷ',\n",
       " 'ଡ',\n",
       " 'ଧ',\n",
       " 'ଷ',\n",
       " 'ଞ',\n",
       " 'ଛ',\n",
       " 'ଷ',\n",
       " 'ଳ',\n",
       " 'ଶ',\n",
       " 'ସ',\n",
       " 'ଫ',\n",
       " 'ଶ',\n",
       " 'ଲ',\n",
       " 'ଦ',\n",
       " 'କ୍ଷ',\n",
       " 'ଦ',\n",
       " 'ଲ',\n",
       " 'ନ',\n",
       " 'ବ',\n",
       " 'ତ',\n",
       " 'ଶ',\n",
       " 'ଥ',\n",
       " 'ଣ',\n",
       " 'ଥ',\n",
       " 'ଛ',\n",
       " 'ଜ',\n",
       " 'ଭ',\n",
       " 'କ୍ଷ',\n",
       " 'ଶ',\n",
       " 'ଝ',\n",
       " 'ସ',\n",
       " 'ଠ',\n",
       " 'ଫ',\n",
       " 'ଞ',\n",
       " 'ର',\n",
       " 'ଭ',\n",
       " 'ଦ',\n",
       " 'ର',\n",
       " 'ଞ',\n",
       " 'ଯ',\n",
       " 'ୟ',\n",
       " 'ତ',\n",
       " 'ଢ',\n",
       " 'ୱ',\n",
       " 'ୟ',\n",
       " 'ଥ',\n",
       " 'ଞ',\n",
       " 'ଠ',\n",
       " 'ଣ',\n",
       " 'ଠ',\n",
       " 'ତ',\n",
       " 'ଢ',\n",
       " 'ମ',\n",
       " 'ପ',\n",
       " 'ଯ',\n",
       " 'ସ',\n",
       " 'ଝ',\n",
       " 'ଫ',\n",
       " 'ଲ',\n",
       " 'ଛ',\n",
       " 'ଛ',\n",
       " 'ଯ',\n",
       " 'ମ',\n",
       " 'ସ',\n",
       " 'ଫ',\n",
       " 'ର',\n",
       " 'ଚ',\n",
       " 'ଡ',\n",
       " 'ୱ',\n",
       " 'ତ',\n",
       " 'ଥ',\n",
       " 'ହ',\n",
       " 'ମ',\n",
       " 'ତ',\n",
       " 'ତ',\n",
       " 'ଳ',\n",
       " 'ମ',\n",
       " 'ନ',\n",
       " 'ୱ',\n",
       " 'ଲ',\n",
       " 'ଦ',\n",
       " 'ଞ',\n",
       " 'ଧ',\n",
       " 'ମ',\n",
       " 'ଡ',\n",
       " 'ପ',\n",
       " 'ୱ',\n",
       " 'ଝ',\n",
       " 'ତ',\n",
       " 'ଭ',\n",
       " 'ଛ',\n",
       " 'ଟ',\n",
       " 'ଟ',\n",
       " 'ଛ',\n",
       " 'ଥ',\n",
       " 'ଳ',\n",
       " 'ଳ',\n",
       " 'ଡ',\n",
       " 'ତ',\n",
       " 'ଣ',\n",
       " 'ଦ',\n",
       " 'ଜ',\n",
       " 'ଛ',\n",
       " 'ଭ',\n",
       " 'ଶ',\n",
       " 'ଭ',\n",
       " 'ଠ',\n",
       " 'ଷ',\n",
       " 'ଛ',\n",
       " 'ଛ',\n",
       " 'ଧ',\n",
       " 'ଞ',\n",
       " 'ହ',\n",
       " 'ଟ',\n",
       " 'ଛ',\n",
       " 'ଳ',\n",
       " 'ୱ',\n",
       " 'ଛ',\n",
       " 'ଛ',\n",
       " 'ୱ',\n",
       " 'ଚ',\n",
       " 'ଫ',\n",
       " 'ବ',\n",
       " 'ଧ',\n",
       " 'ଷ',\n",
       " 'ମ',\n",
       " 'ସ',\n",
       " 'ହ',\n",
       " 'ଥ',\n",
       " 'ୱ',\n",
       " 'ସ',\n",
       " 'ଟ',\n",
       " 'ଧ',\n",
       " 'ଡ',\n",
       " 'ଡ',\n",
       " 'ଟ',\n",
       " 'ଡ',\n",
       " 'ସ',\n",
       " 'ନ',\n",
       " 'ଫ',\n",
       " 'ଫ',\n",
       " 'ବ',\n",
       " 'ର',\n",
       " 'ର',\n",
       " 'ବ',\n",
       " 'ଦ',\n",
       " 'ଫ',\n",
       " 'ହ',\n",
       " 'ଠ',\n",
       " 'ଳ',\n",
       " 'ସ',\n",
       " 'ଦ',\n",
       " 'ଫ',\n",
       " 'ନ',\n",
       " 'ଭ',\n",
       " 'ସ',\n",
       " 'ଫ',\n",
       " 'ଡ',\n",
       " 'ଫ',\n",
       " 'ଣ',\n",
       " 'ନ',\n",
       " 'ଧ',\n",
       " 'ଦ',\n",
       " 'ଜ',\n",
       " 'ଟ',\n",
       " 'ୟ',\n",
       " 'ଢ',\n",
       " 'ଳ',\n",
       " 'କ୍ଷ',\n",
       " 'ୟ',\n",
       " 'ଚ',\n",
       " 'ଧ',\n",
       " 'ଠ',\n",
       " 'ର',\n",
       " 'ଶ',\n",
       " 'ଧ',\n",
       " 'କ୍ଷ',\n",
       " 'ବ',\n",
       " 'ସ',\n",
       " 'ହ',\n",
       " 'କ୍ଷ',\n",
       " 'ଭ',\n",
       " 'ଡ',\n",
       " 'ଛ',\n",
       " 'ଚ',\n",
       " 'ପ',\n",
       " 'ସ',\n",
       " 'ସ',\n",
       " 'ଧ',\n",
       " 'ଭ',\n",
       " 'ଥ',\n",
       " 'ଟ',\n",
       " 'ଫ',\n",
       " 'ଜ',\n",
       " 'ତ',\n",
       " 'ଥ',\n",
       " 'ସ',\n",
       " 'ଶ',\n",
       " 'ୟ',\n",
       " 'ଟ',\n",
       " 'ଣ',\n",
       " 'ଯ',\n",
       " 'ଳ',\n",
       " 'ବ',\n",
       " 'ସ',\n",
       " 'ହ',\n",
       " 'ଷ',\n",
       " 'ଞ',\n",
       " 'ଢ',\n",
       " 'ଢ',\n",
       " 'ଢ',\n",
       " 'ହ',\n",
       " 'ଡ',\n",
       " 'ଠ',\n",
       " 'ଠ',\n",
       " 'ଝ',\n",
       " 'କ୍ଷ',\n",
       " 'ଟ',\n",
       " 'ଫ',\n",
       " 'ଝ',\n",
       " 'ସ',\n",
       " 'ଝ',\n",
       " 'କ୍ଷ',\n",
       " 'ୱ',\n",
       " 'ଯ',\n",
       " 'ହ',\n",
       " 'ଭ',\n",
       " 'ଢ',\n",
       " 'ନ',\n",
       " 'କ୍ଷ',\n",
       " 'ଶ',\n",
       " 'ଡ',\n",
       " 'ସ',\n",
       " 'ଶ',\n",
       " 'ଧ',\n",
       " 'ଡ',\n",
       " 'ଷ',\n",
       " 'ଶ',\n",
       " 'ପ',\n",
       " 'ଯ',\n",
       " 'ଠ',\n",
       " 'ଲ',\n",
       " 'ଦ',\n",
       " 'ଚ',\n",
       " 'ମ',\n",
       " 'ଚ',\n",
       " 'ଠ',\n",
       " 'ଧ',\n",
       " 'ଜ',\n",
       " 'ଧ',\n",
       " 'ତ',\n",
       " 'ଠ',\n",
       " 'ର',\n",
       " 'ଲ',\n",
       " 'ଥ',\n",
       " 'ଛ',\n",
       " 'ଦ',\n",
       " 'ଞ',\n",
       " 'ଟ',\n",
       " 'ୱ',\n",
       " 'ଶ',\n",
       " 'କ୍ଷ',\n",
       " 'ଚ',\n",
       " 'ଲ',\n",
       " 'ଳ',\n",
       " 'ଶ',\n",
       " 'ଯ',\n",
       " 'ଥ',\n",
       " 'ପ',\n",
       " 'ର',\n",
       " 'ଳ',\n",
       " 'ଲ',\n",
       " 'କ୍ଷ',\n",
       " 'ସ',\n",
       " 'ମ',\n",
       " 'ଠ',\n",
       " 'ତ',\n",
       " 'ଦ',\n",
       " 'ଳ',\n",
       " 'ନ',\n",
       " 'କ୍ଷ',\n",
       " 'ତ',\n",
       " 'ଦ',\n",
       " 'ୱ',\n",
       " 'ଭ',\n",
       " 'ଡ',\n",
       " 'ସ',\n",
       " 'ସ',\n",
       " 'ଶ',\n",
       " 'ୱ',\n",
       " 'ଷ',\n",
       " 'ୱ',\n",
       " 'ଦ',\n",
       " 'ଲ',\n",
       " 'ଯ',\n",
       " 'ଲ',\n",
       " 'ଚ',\n",
       " 'କ୍ଷ',\n",
       " 'ଦ',\n",
       " 'ଝ',\n",
       " 'ର',\n",
       " 'ଳ',\n",
       " 'ବ',\n",
       " 'ମ',\n",
       " 'ଥ',\n",
       " 'ସ',\n",
       " 'ହ',\n",
       " 'ଷ',\n",
       " 'ଳ',\n",
       " 'ଧ',\n",
       " 'ଝ',\n",
       " 'ଠ',\n",
       " 'ଞ',\n",
       " 'ଫ',\n",
       " 'ଠ',\n",
       " 'ଯ',\n",
       " 'ଡ',\n",
       " 'ଦ',\n",
       " 'ୱ',\n",
       " 'ଶ',\n",
       " 'ଡ',\n",
       " 'ଧ',\n",
       " 'ମ',\n",
       " 'ଚ',\n",
       " 'ସ',\n",
       " 'ଥ',\n",
       " 'ଳ',\n",
       " 'ବ',\n",
       " 'ଠ',\n",
       " 'ପ',\n",
       " 'ଝ',\n",
       " 'ହ',\n",
       " 'ଧ',\n",
       " 'ଛ',\n",
       " 'ନ',\n",
       " 'ଣ',\n",
       " 'ଡ',\n",
       " 'କ୍ଷ',\n",
       " 'ୟ',\n",
       " 'ଣ',\n",
       " 'ମ',\n",
       " 'ମ',\n",
       " 'ପ',\n",
       " 'ୟ',\n",
       " 'ଡ',\n",
       " 'ନ',\n",
       " 'ଲ',\n",
       " 'ହ',\n",
       " 'ଯ',\n",
       " 'ଞ',\n",
       " 'ବ',\n",
       " 'ଷ',\n",
       " 'ଞ',\n",
       " 'ସ',\n",
       " 'ସ',\n",
       " 'ଭ',\n",
       " 'ଣ',\n",
       " 'ଧ',\n",
       " 'ଦ',\n",
       " 'ତ',\n",
       " 'ଣ',\n",
       " 'ଷ',\n",
       " 'ଫ',\n",
       " 'ଚ',\n",
       " 'ବ',\n",
       " 'ଯ',\n",
       " 'ଭ',\n",
       " 'ନ',\n",
       " 'ଷ',\n",
       " 'ୱ',\n",
       " 'ଠ',\n",
       " 'ବ',\n",
       " 'ଞ',\n",
       " 'ଭ',\n",
       " 'ଜ',\n",
       " 'ମ',\n",
       " 'ଲ',\n",
       " 'ଛ',\n",
       " 'ବ',\n",
       " 'ଞ',\n",
       " 'ଛ',\n",
       " 'ଧ',\n",
       " 'ମ',\n",
       " 'ଚ',\n",
       " 'ଶ',\n",
       " 'ସ',\n",
       " 'ଢ',\n",
       " 'ଟ',\n",
       " 'ତ',\n",
       " 'ଲ',\n",
       " 'ଫ',\n",
       " 'ଡ',\n",
       " 'ଞ',\n",
       " 'ଭ',\n",
       " 'ଛ']"
      ]
     },
     "execution_count": 25,
     "metadata": {},
     "output_type": "execute_result"
    }
   ],
   "source": [
    "predictions\n"
   ]
  },
  {
   "cell_type": "code",
   "execution_count": 29,
   "metadata": {},
   "outputs": [],
   "source": [
    "import pandas as pd\n",
    "filenames=test_set.filenames\n",
    "results=pd.DataFrame({\"Filename\":filenames,\n",
    "                      \"Predictions\":predictions,\n",
    "                     \"Predicted_indices\":predicted_class_indices})\n",
    "results.to_csv(\"results.csv\",index=False)"
   ]
  },
  {
   "cell_type": "code",
   "execution_count": 35,
   "metadata": {},
   "outputs": [
    {
     "ename": "ValueError",
     "evalue": "Error when checking input: expected conv2d_4_input to have 4 dimensions, but got array with shape (681, 1)",
     "output_type": "error",
     "traceback": [
      "\u001b[1;31m---------------------------------------------------------------------------\u001b[0m",
      "\u001b[1;31mValueError\u001b[0m                                Traceback (most recent call last)",
      "\u001b[1;32m<ipython-input-35-3479b95c74c5>\u001b[0m in \u001b[0;36m<module>\u001b[1;34m\u001b[0m\n\u001b[1;32m----> 1\u001b[1;33m \u001b[0mscore\u001b[0m \u001b[1;33m=\u001b[0m \u001b[0mmodel\u001b[0m\u001b[1;33m.\u001b[0m\u001b[0mevaluate\u001b[0m\u001b[1;33m(\u001b[0m\u001b[0mtest_set\u001b[0m\u001b[1;33m.\u001b[0m\u001b[0mlabels\u001b[0m\u001b[1;33m,\u001b[0m\u001b[0mpredicted_class_indices\u001b[0m\u001b[1;33m,\u001b[0m \u001b[0mverbose\u001b[0m\u001b[1;33m=\u001b[0m\u001b[1;36m0\u001b[0m\u001b[1;33m)\u001b[0m\u001b[1;33m\u001b[0m\u001b[1;33m\u001b[0m\u001b[0m\n\u001b[0m\u001b[0;32m      2\u001b[0m \u001b[0mprint\u001b[0m\u001b[1;33m(\u001b[0m\u001b[1;34m'Test loss:'\u001b[0m\u001b[1;33m,\u001b[0m \u001b[0mscore\u001b[0m\u001b[1;33m[\u001b[0m\u001b[1;36m0\u001b[0m\u001b[1;33m]\u001b[0m\u001b[1;33m)\u001b[0m\u001b[1;33m\u001b[0m\u001b[1;33m\u001b[0m\u001b[0m\n\u001b[0;32m      3\u001b[0m \u001b[0mprint\u001b[0m\u001b[1;33m(\u001b[0m\u001b[1;34m'Test accuracy:'\u001b[0m\u001b[1;33m,\u001b[0m \u001b[0mscore\u001b[0m\u001b[1;33m[\u001b[0m\u001b[1;36m1\u001b[0m\u001b[1;33m]\u001b[0m\u001b[1;33m)\u001b[0m\u001b[1;33m\u001b[0m\u001b[1;33m\u001b[0m\u001b[0m\n",
      "\u001b[1;32m~\\Anaconda3\\lib\\site-packages\\keras\\engine\\training.py\u001b[0m in \u001b[0;36mevaluate\u001b[1;34m(self, x, y, batch_size, verbose, sample_weight, steps, callbacks, max_queue_size, workers, use_multiprocessing)\u001b[0m\n\u001b[0;32m   1347\u001b[0m             \u001b[0mx\u001b[0m\u001b[1;33m,\u001b[0m \u001b[0my\u001b[0m\u001b[1;33m,\u001b[0m\u001b[1;33m\u001b[0m\u001b[1;33m\u001b[0m\u001b[0m\n\u001b[0;32m   1348\u001b[0m             \u001b[0msample_weight\u001b[0m\u001b[1;33m=\u001b[0m\u001b[0msample_weight\u001b[0m\u001b[1;33m,\u001b[0m\u001b[1;33m\u001b[0m\u001b[1;33m\u001b[0m\u001b[0m\n\u001b[1;32m-> 1349\u001b[1;33m             batch_size=batch_size)\n\u001b[0m\u001b[0;32m   1350\u001b[0m         \u001b[1;31m# Prepare inputs, delegate logic to `test_loop`.\u001b[0m\u001b[1;33m\u001b[0m\u001b[1;33m\u001b[0m\u001b[1;33m\u001b[0m\u001b[0m\n\u001b[0;32m   1351\u001b[0m         \u001b[1;32mif\u001b[0m \u001b[0mself\u001b[0m\u001b[1;33m.\u001b[0m\u001b[0m_uses_dynamic_learning_phase\u001b[0m\u001b[1;33m(\u001b[0m\u001b[1;33m)\u001b[0m\u001b[1;33m:\u001b[0m\u001b[1;33m\u001b[0m\u001b[1;33m\u001b[0m\u001b[0m\n",
      "\u001b[1;32m~\\Anaconda3\\lib\\site-packages\\keras\\engine\\training.py\u001b[0m in \u001b[0;36m_standardize_user_data\u001b[1;34m(self, x, y, sample_weight, class_weight, check_array_lengths, batch_size)\u001b[0m\n\u001b[0;32m    577\u001b[0m             \u001b[0mfeed_input_shapes\u001b[0m\u001b[1;33m,\u001b[0m\u001b[1;33m\u001b[0m\u001b[1;33m\u001b[0m\u001b[0m\n\u001b[0;32m    578\u001b[0m             \u001b[0mcheck_batch_axis\u001b[0m\u001b[1;33m=\u001b[0m\u001b[1;32mFalse\u001b[0m\u001b[1;33m,\u001b[0m  \u001b[1;31m# Don't enforce the batch size.\u001b[0m\u001b[1;33m\u001b[0m\u001b[1;33m\u001b[0m\u001b[0m\n\u001b[1;32m--> 579\u001b[1;33m             exception_prefix='input')\n\u001b[0m\u001b[0;32m    580\u001b[0m \u001b[1;33m\u001b[0m\u001b[0m\n\u001b[0;32m    581\u001b[0m         \u001b[1;32mif\u001b[0m \u001b[0my\u001b[0m \u001b[1;32mis\u001b[0m \u001b[1;32mnot\u001b[0m \u001b[1;32mNone\u001b[0m\u001b[1;33m:\u001b[0m\u001b[1;33m\u001b[0m\u001b[1;33m\u001b[0m\u001b[0m\n",
      "\u001b[1;32m~\\Anaconda3\\lib\\site-packages\\keras\\engine\\training_utils.py\u001b[0m in \u001b[0;36mstandardize_input_data\u001b[1;34m(data, names, shapes, check_batch_axis, exception_prefix)\u001b[0m\n\u001b[0;32m    133\u001b[0m                         \u001b[1;34m': expected '\u001b[0m \u001b[1;33m+\u001b[0m \u001b[0mnames\u001b[0m\u001b[1;33m[\u001b[0m\u001b[0mi\u001b[0m\u001b[1;33m]\u001b[0m \u001b[1;33m+\u001b[0m \u001b[1;34m' to have '\u001b[0m \u001b[1;33m+\u001b[0m\u001b[1;33m\u001b[0m\u001b[1;33m\u001b[0m\u001b[0m\n\u001b[0;32m    134\u001b[0m                         \u001b[0mstr\u001b[0m\u001b[1;33m(\u001b[0m\u001b[0mlen\u001b[0m\u001b[1;33m(\u001b[0m\u001b[0mshape\u001b[0m\u001b[1;33m)\u001b[0m\u001b[1;33m)\u001b[0m \u001b[1;33m+\u001b[0m \u001b[1;34m' dimensions, but got array '\u001b[0m\u001b[1;33m\u001b[0m\u001b[1;33m\u001b[0m\u001b[0m\n\u001b[1;32m--> 135\u001b[1;33m                         'with shape ' + str(data_shape))\n\u001b[0m\u001b[0;32m    136\u001b[0m                 \u001b[1;32mif\u001b[0m \u001b[1;32mnot\u001b[0m \u001b[0mcheck_batch_axis\u001b[0m\u001b[1;33m:\u001b[0m\u001b[1;33m\u001b[0m\u001b[1;33m\u001b[0m\u001b[0m\n\u001b[0;32m    137\u001b[0m                     \u001b[0mdata_shape\u001b[0m \u001b[1;33m=\u001b[0m \u001b[0mdata_shape\u001b[0m\u001b[1;33m[\u001b[0m\u001b[1;36m1\u001b[0m\u001b[1;33m:\u001b[0m\u001b[1;33m]\u001b[0m\u001b[1;33m\u001b[0m\u001b[1;33m\u001b[0m\u001b[0m\n",
      "\u001b[1;31mValueError\u001b[0m: Error when checking input: expected conv2d_4_input to have 4 dimensions, but got array with shape (681, 1)"
     ]
    }
   ],
   "source": [
    "score = model.evaluate(test_set.labels,predicted_class_indices, verbose=0)\n",
    "print('Test loss:', score[0])\n",
    "print('Test accuracy:', score[1])"
   ]
  },
  {
   "cell_type": "code",
   "execution_count": 33,
   "metadata": {},
   "outputs": [
    {
     "data": {
      "text/plain": [
       "['__class__',\n",
       " '__delattr__',\n",
       " '__dict__',\n",
       " '__dir__',\n",
       " '__doc__',\n",
       " '__eq__',\n",
       " '__format__',\n",
       " '__ge__',\n",
       " '__getattribute__',\n",
       " '__getitem__',\n",
       " '__gt__',\n",
       " '__hash__',\n",
       " '__init__',\n",
       " '__init_subclass__',\n",
       " '__iter__',\n",
       " '__le__',\n",
       " '__len__',\n",
       " '__lt__',\n",
       " '__module__',\n",
       " '__ne__',\n",
       " '__new__',\n",
       " '__next__',\n",
       " '__reduce__',\n",
       " '__reduce_ex__',\n",
       " '__repr__',\n",
       " '__setattr__',\n",
       " '__sizeof__',\n",
       " '__str__',\n",
       " '__subclasshook__',\n",
       " '__weakref__',\n",
       " '_filepaths',\n",
       " '_flow_index',\n",
       " '_get_batches_of_transformed_samples',\n",
       " '_keras_api_names',\n",
       " '_keras_api_names_v1',\n",
       " '_set_index_array',\n",
       " 'allowed_class_modes',\n",
       " 'batch_index',\n",
       " 'batch_size',\n",
       " 'class_indices',\n",
       " 'class_mode',\n",
       " 'classes',\n",
       " 'color_mode',\n",
       " 'data_format',\n",
       " 'directory',\n",
       " 'dtype',\n",
       " 'filenames',\n",
       " 'filepaths',\n",
       " 'image_data_generator',\n",
       " 'image_shape',\n",
       " 'index_array',\n",
       " 'index_generator',\n",
       " 'interpolation',\n",
       " 'labels',\n",
       " 'lock',\n",
       " 'n',\n",
       " 'next',\n",
       " 'num_classes',\n",
       " 'on_epoch_end',\n",
       " 'reset',\n",
       " 'sample_weight',\n",
       " 'samples',\n",
       " 'save_format',\n",
       " 'save_prefix',\n",
       " 'save_to_dir',\n",
       " 'seed',\n",
       " 'set_processing_attrs',\n",
       " 'shuffle',\n",
       " 'split',\n",
       " 'subset',\n",
       " 'target_size',\n",
       " 'total_batches_seen',\n",
       " 'use_sequence_api',\n",
       " 'white_list_formats']"
      ]
     },
     "execution_count": 33,
     "metadata": {},
     "output_type": "execute_result"
    }
   ],
   "source": [
    "dir(test_set)"
   ]
  },
  {
   "cell_type": "code",
   "execution_count": 34,
   "metadata": {},
   "outputs": [
    {
     "data": {
      "text/plain": [
       "array([ 0,  0,  0,  0,  0,  0,  0,  0,  0,  0,  0,  0,  0,  0,  0,  0,  0,\n",
       "        0,  0,  0,  0,  0,  0,  1,  1,  1,  1,  1,  1,  1,  1,  1,  1,  1,\n",
       "        1,  1,  1,  1,  1,  1,  1,  1,  1,  1,  1,  2,  2,  2,  2,  2,  2,\n",
       "        2,  2,  2,  2,  2,  2,  2,  2,  2,  2,  2,  2,  2,  2,  2,  2,  3,\n",
       "        3,  3,  3,  3,  3,  3,  3,  3,  3,  3,  3,  3,  3,  3,  3,  3,  3,\n",
       "        3,  3,  3,  3,  4,  4,  4,  4,  4,  4,  4,  4,  4,  4,  4,  4,  4,\n",
       "        4,  4,  4,  4,  4,  4,  4,  4,  4,  5,  5,  5,  5,  5,  5,  5,  5,\n",
       "        5,  5,  5,  5,  5,  5,  5,  5,  5,  5,  5,  5,  5,  5,  6,  6,  6,\n",
       "        6,  6,  6,  6,  6,  6,  6,  6,  6,  6,  6,  6,  6,  6,  6,  6,  6,\n",
       "        6,  6,  7,  7,  7,  7,  7,  7,  7,  7,  7,  7,  7,  7,  7,  7,  7,\n",
       "        7,  7,  7,  7,  7,  7,  7,  8,  8,  8,  8,  8,  8,  8,  8,  8,  8,\n",
       "        8,  8,  8,  8,  8,  8,  8,  8,  8,  8,  8,  8,  9,  9,  9,  9,  9,\n",
       "        9,  9,  9,  9,  9,  9,  9,  9,  9,  9,  9,  9,  9,  9,  9,  9,  9,\n",
       "       10, 10, 10, 10, 10, 10, 10, 10, 10, 10, 10, 10, 10, 10, 10, 10, 10,\n",
       "       10, 10, 10, 10, 10, 11, 11, 11, 11, 11, 11, 11, 11, 11, 11, 11, 11,\n",
       "       11, 11, 11, 11, 11, 11, 11, 11, 11, 11, 12, 12, 12, 12, 12, 12, 12,\n",
       "       12, 12, 12, 12, 12, 12, 12, 12, 12, 12, 12, 12, 12, 12, 12, 13, 13,\n",
       "       13, 13, 13, 13, 13, 13, 13, 13, 13, 13, 13, 13, 13, 13, 13, 13, 13,\n",
       "       13, 13, 13, 14, 14, 14, 14, 14, 14, 14, 14, 14, 14, 14, 14, 14, 14,\n",
       "       14, 14, 14, 14, 14, 14, 14, 14, 15, 15, 15, 15, 15, 15, 15, 15, 15,\n",
       "       15, 15, 15, 15, 15, 15, 15, 15, 15, 15, 15, 15, 15, 16, 16, 16, 16,\n",
       "       16, 16, 16, 16, 16, 16, 16, 16, 16, 16, 16, 16, 16, 16, 16, 16, 16,\n",
       "       16, 17, 17, 17, 17, 17, 17, 17, 17, 17, 17, 17, 17, 17, 17, 17, 17,\n",
       "       17, 17, 17, 17, 17, 17, 18, 18, 18, 18, 18, 18, 18, 18, 18, 18, 18,\n",
       "       18, 18, 18, 18, 18, 18, 18, 18, 18, 18, 18, 19, 19, 19, 19, 19, 19,\n",
       "       19, 19, 19, 19, 19, 19, 19, 19, 19, 19, 19, 19, 19, 19, 19, 19, 20,\n",
       "       20, 20, 20, 20, 20, 20, 20, 20, 20, 20, 20, 20, 20, 20, 20, 20, 20,\n",
       "       20, 20, 20, 20, 21, 21, 21, 21, 21, 21, 21, 21, 21, 21, 21, 21, 21,\n",
       "       21, 21, 21, 21, 21, 21, 21, 21, 21, 22, 22, 22, 22, 22, 22, 22, 22,\n",
       "       22, 22, 22, 22, 22, 22, 22, 22, 22, 22, 22, 22, 23, 23, 23, 23, 23,\n",
       "       23, 23, 23, 23, 23, 23, 23, 23, 23, 23, 23, 23, 23, 23, 23, 23, 23,\n",
       "       24, 24, 24, 24, 24, 24, 24, 24, 24, 24, 24, 24, 24, 24, 24, 24, 24,\n",
       "       24, 24, 24, 24, 24, 25, 25, 25, 25, 25, 25, 25, 25, 25, 25, 25, 25,\n",
       "       25, 25, 25, 25, 25, 25, 25, 25, 25, 25, 26, 26, 26, 26, 26, 26, 26,\n",
       "       26, 26, 26, 26, 26, 26, 26, 26, 26, 26, 26, 26, 26, 26, 26, 27, 27,\n",
       "       27, 27, 27, 27, 27, 27, 27, 27, 27, 27, 27, 27, 27, 27, 27, 27, 27,\n",
       "       27, 27, 27, 28, 28, 28, 28, 28, 28, 28, 28, 28, 28, 28, 28, 28, 28,\n",
       "       28, 28, 28, 28, 28, 28, 28, 28, 29, 29, 29, 29, 29, 29, 29, 29, 29,\n",
       "       29, 29, 29, 29, 29, 29, 29, 29, 29, 29, 29, 29, 29, 30, 30, 30, 30,\n",
       "       30, 30, 30, 30, 30, 30, 30, 30, 30, 30, 30, 30, 30, 30, 30, 30, 30,\n",
       "       30])"
      ]
     },
     "execution_count": 34,
     "metadata": {},
     "output_type": "execute_result"
    }
   ],
   "source": [
    "test_set.labels"
   ]
  },
  {
   "cell_type": "code",
   "execution_count": null,
   "metadata": {},
   "outputs": [],
   "source": []
  }
 ],
 "metadata": {
  "kernelspec": {
   "display_name": "Python 3",
   "language": "python",
   "name": "python3"
  },
  "language_info": {
   "codemirror_mode": {
    "name": "ipython",
    "version": 3
   },
   "file_extension": ".py",
   "mimetype": "text/x-python",
   "name": "python",
   "nbconvert_exporter": "python",
   "pygments_lexer": "ipython3",
   "version": "3.7.4"
  }
 },
 "nbformat": 4,
 "nbformat_minor": 2
}
